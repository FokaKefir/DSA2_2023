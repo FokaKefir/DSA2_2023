{
  "nbformat": 4,
  "nbformat_minor": 0,
  "metadata": {
    "colab": {
      "provenance": [],
      "authorship_tag": "ABX9TyPLyprm9GC0Aop9oXvm9tdE",
      "include_colab_link": true
    },
    "kernelspec": {
      "name": "python3",
      "display_name": "Python 3"
    },
    "language_info": {
      "name": "python"
    }
  },
  "cells": [
    {
      "cell_type": "markdown",
      "metadata": {
        "id": "view-in-github",
        "colab_type": "text"
      },
      "source": [
        "<a href=\"https://colab.research.google.com/github/FokaKefir/DSA2_2023/blob/master/MNIST2_preprocess.ipynb\" target=\"_parent\"><img src=\"https://colab.research.google.com/assets/colab-badge.svg\" alt=\"Open In Colab\"/></a>"
      ]
    },
    {
      "cell_type": "markdown",
      "source": [
        "# Import dependencies"
      ],
      "metadata": {
        "id": "6bu6hG542JlJ"
      }
    },
    {
      "cell_type": "code",
      "execution_count": 1,
      "metadata": {
        "id": "xC_pKqu6vpGv"
      },
      "outputs": [],
      "source": [
        "from tensorflow.keras.datasets import mnist\n",
        "\n",
        "import numpy as np\n",
        "import matplotlib.pyplot as plt\n",
        "from sklearn.utils import shuffle"
      ]
    },
    {
      "cell_type": "markdown",
      "source": [
        "# Load in MNIST"
      ],
      "metadata": {
        "id": "tr7RVWDG2PVl"
      }
    },
    {
      "cell_type": "code",
      "source": [
        "(x_mnist_train, y_mnist_train), (x_mnist_test, y_mnist_test) = mnist.load_data()\n",
        "x_mnist_train, x_mnist_test = x_mnist_train / 255.0, x_mnist_test / 255.0"
      ],
      "metadata": {
        "id": "IlNFITqLvw55"
      },
      "execution_count": 2,
      "outputs": []
    },
    {
      "cell_type": "code",
      "source": [
        "x_mnist_train.shape, y_mnist_train.shape"
      ],
      "metadata": {
        "colab": {
          "base_uri": "https://localhost:8080/"
        },
        "id": "kcpk6r8dwBlB",
        "outputId": "da041ab9-b972-4716-c73c-32cabff241b6"
      },
      "execution_count": 3,
      "outputs": [
        {
          "output_type": "execute_result",
          "data": {
            "text/plain": [
              "((60000, 28, 28), (60000,))"
            ]
          },
          "metadata": {},
          "execution_count": 3
        }
      ]
    },
    {
      "cell_type": "markdown",
      "source": [
        "# Generate numbers with 2 digits"
      ],
      "metadata": {
        "id": "ggZkWrF32RFG"
      }
    },
    {
      "cell_type": "code",
      "source": [
        "choosen_nums = 50"
      ],
      "metadata": {
        "id": "dE7TpfebyKvw"
      },
      "execution_count": 4,
      "outputs": []
    },
    {
      "cell_type": "code",
      "source": [
        "num_indexes = []\n",
        "for num in range(10):\n",
        "  num_indexes.append(np.random.choice(np.where(y_mnist_train == num)[0], choosen_nums, replace=False))"
      ],
      "metadata": {
        "id": "LnCtxx1kv16D"
      },
      "execution_count": 5,
      "outputs": []
    },
    {
      "cell_type": "code",
      "source": [
        "x_train = np.zeros((choosen_nums * choosen_nums * 100, 28, 2 * 28), dtype=np.float32)\n",
        "y_train = np.zeros((choosen_nums * choosen_nums * 100), dtype=np.uint8)\n",
        "ind = 0\n",
        "for first_digit in range(10):\n",
        "  for last_digit in range(10):\n",
        "    for f_num_index in num_indexes[first_digit]:\n",
        "      if first_digit != 0:\n",
        "        first_num_matrix = x_mnist_train[f_num_index]\n",
        "      else:\n",
        "        first_num_matrix = np.zeros((28, 28), dtype=np.float32)\n",
        "      for l_num_index in num_indexes[last_digit]:\n",
        "        last_num_matrix = x_mnist_train[l_num_index]\n",
        "        num_matrix = np.concatenate([first_num_matrix, last_num_matrix], axis=1)\n",
        "        x_train[ind] = num_matrix\n",
        "        y_train[ind] = 10 * first_digit + last_digit\n",
        "        ind += 1"
      ],
      "metadata": {
        "id": "P88vnTz8v77_"
      },
      "execution_count": 6,
      "outputs": []
    },
    {
      "cell_type": "code",
      "source": [
        "x_train, y_train = shuffle(x_train, y_train)"
      ],
      "metadata": {
        "id": "Te_eQVQP08I1"
      },
      "execution_count": 7,
      "outputs": []
    },
    {
      "cell_type": "code",
      "source": [
        "x_train.shape, y_train.shape"
      ],
      "metadata": {
        "colab": {
          "base_uri": "https://localhost:8080/"
        },
        "id": "jjARlvxrxJGH",
        "outputId": "699ff5af-6f57-4a25-a2ac-c3e636d6b283"
      },
      "execution_count": 8,
      "outputs": [
        {
          "output_type": "execute_result",
          "data": {
            "text/plain": [
              "((250000, 28, 56), (250000,))"
            ]
          },
          "metadata": {},
          "execution_count": 8
        }
      ]
    },
    {
      "cell_type": "code",
      "source": [
        "random_indices = np.random.choice(x_train.shape[0], 9, replace=False)\n",
        "\n",
        "plt.figure(figsize=(12, 8))\n",
        "for i, index in enumerate(random_indices, 1):\n",
        "    plt.subplot(3, 3, i)\n",
        "    plt.imshow(x_train[index], cmap='gray')\n",
        "    plt.title(f\"Label: {y_train[index]}\")\n",
        "    plt.axis('off')\n",
        "\n",
        "plt.tight_layout()\n",
        "plt.show()"
      ],
      "metadata": {
        "colab": {
          "base_uri": "https://localhost:8080/",
          "height": 757
        },
        "id": "hsozFwtXOaW4",
        "outputId": "54effe77-bc14-43b3-88cc-c519f8814cc2"
      },
      "execution_count": 9,
      "outputs": [
        {
          "output_type": "display_data",
          "data": {
            "text/plain": [
              "<Figure size 1200x800 with 9 Axes>"
            ],
            "image/png": "[encoded data removed]"
          },
          "metadata": {}
        }
      ]
    }
  ]
}